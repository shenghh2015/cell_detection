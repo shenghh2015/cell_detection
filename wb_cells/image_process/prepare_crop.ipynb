{
 "cells": [
  {
   "cell_type": "code",
   "execution_count": 2,
   "metadata": {},
   "outputs": [],
   "source": [
    "import numpy as np\n",
    "from skimage import io\n",
    "import os\n",
    "import sys\n",
    "import matplotlib.pyplot as plt\n",
    "from scipy.io import loadmat\n",
    "from natsort import natsorted\n",
    "import random\n",
    "import cv2"
   ]
  },
  {
   "cell_type": "code",
   "execution_count": null,
   "metadata": {},
   "outputs": [],
   "source": [
    "dataset_dir = '/home/sh38/wb_cells/datasets/wbc_1024x1024/'\n",
    "image_dir = dataset_dir + '/images'\n",
    "map_dir = dataset_dir + 'seg_maps'\n",
    "box_dir = dataset_dir + 'boxes'\n",
    "fns = os.listdir(box_dir)\n",
    "print(len(fns))"
   ]
  },
  {
   "cell_type": "code",
   "execution_count": null,
   "metadata": {},
   "outputs": [],
   "source": [
    "def read_boxes(file_name):\n",
    "    boxes = []\n",
    "    with open(file_name, 'r+') as f:\n",
    "        for line in f.readlines():\n",
    "            splits = line.strip().split(',')\n",
    "            boxes.append([(int(splits[0]), int(splits[1])), (int(splits[2]), int(splits[3]))])\n",
    "    return boxes\n",
    "\n",
    "def generate_folder(folder):\n",
    "    if not os.path.exists(folder):\n",
    "        os.system('mkdir -p {}'.format(folder))"
   ]
  },
  {
   "cell_type": "code",
   "execution_count": null,
   "metadata": {
    "scrolled": true
   },
   "outputs": [],
   "source": [
    "# check the bounding boxes\n",
    "num = 2\n",
    "dim = 384; hf = dim // 2\n",
    "indicies = random.sample(range(len(fns)), num)\n",
    "rows, cols, size = num, 5, 5\n",
    "fig = plt.figure(tight_layout=True,figsize=(size*cols, size*rows))\n",
    "ax = fig.subplots(rows, cols)\n",
    "for i in range(2):\n",
    "    img_index = indicies[i]\n",
    "    # print(fns[img_index])\n",
    "    image_file = image_dir + '/{}'.format(fns[img_index].replace('.txt', '.png'))\n",
    "    map_file = map_dir + '/{}'.format(fns[img_index].replace('.txt', '.tif'))\n",
    "    box_file = box_dir + '/{}'.format(fns[img_index])\n",
    "    image = io.imread(image_file); # print(image.shape, image.max(), image.min())\n",
    "    seg_map = io.imread(map_file); # print(seg_map.shape, seg_map.max(), seg_map.min())\n",
    "    ax[i,0].imshow(image)\n",
    "    ax[i,1].imshow(seg_map)\n",
    "    image_copy = image.copy()\n",
    "    boxes = read_boxes(box_file)\n",
    "    for box in boxes:\n",
    "        # print(box)\n",
    "        h, w = box[0][1] - box[1][1], box[0][0] - box[1][0]\n",
    "        #cv2.rectangle(image_copy, (x, y), (x + w, y + h), (36,255,12), 2)\n",
    "        cv2.rectangle(image_copy, (box[1][1], box[1][0]), (box[0][1], box[0][0]), (255, 255, 255), 3)\n",
    "        #cv2.rectangle(image_copy, (box[1][1] - h, box[1][0] - w), (box[1][1] + h, box[1][0] + w), (255, 255, 255), 3)\n",
    "    ax[i,2].imshow(image_copy)\n",
    "    shp = image.shape\n",
    "    cp_img_list = []\n",
    "    cp_map_list = []\n",
    "    for j in range(len(boxes)):\n",
    "        tlx, tly = boxes[j][0]\n",
    "        drx, dry = boxes[j][1]\n",
    "        print(tlx, tly, drx, dry)\n",
    "        #hx, hy = drx - tlx, dry - tly\n",
    "        cx, cy = (tlx + drx) // 2, (tly + dry) // 2\n",
    "        ctlx, cdrx, ctly, cdry = cx - hf, cx + hf, cy - hf, cy + hf\n",
    "        print(ctlx, cdrx, ctly, cdry)\n",
    "        if ctlx < 0:\n",
    "            cdrx += 0 - ctlx\n",
    "            ctlx = 0\n",
    "        if ctly < 0:\n",
    "            cdry += 0 - ctly\n",
    "            ctly = 0\n",
    "        if cdrx > shp[0]: \n",
    "            ctlx -= (cdrx - shp[0])\n",
    "            cdrx = shp[0]\n",
    "        if cdry > shp[1]: \n",
    "            ctly -= (cdry - shp[1])\n",
    "            cdry = shp[1]\n",
    "        cp_img = image[ctlx:cdrx, ctly:cdry]\n",
    "        cp_map = seg_map[ctlx:cdrx, ctly:cdry]\n",
    "        print(cp_img.shape, cp_map.shape)\n",
    "        cp_img_list.append(cp_img)\n",
    "        cp_map_list.append(cp_map)\n",
    "    ax[i,3].imshow(cp_img_list[0])\n",
    "    ax[i,4].imshow(cp_map_list[0])"
   ]
  },
  {
   "cell_type": "code",
   "execution_count": null,
   "metadata": {},
   "outputs": [],
   "source": [
    "# check the object sizes\n",
    "all_boxes = []\n",
    "for img_index, fn in enumerate(fns):\n",
    "    box_file = box_dir + '/{}'.format(fns[img_index])\n",
    "    boxes = read_boxes(box_file)\n",
    "    all_boxes += boxes\n",
    "print(len(all_boxes), all_boxes[:3])\n",
    "xsizes, ysizes = [], []\n",
    "for box in all_boxes:\n",
    "    xsizes.append(box[1][0]-box[0][0])\n",
    "    ysizes.append(box[1][1]-box[0][1])\n",
    "print(len(xsizes), len(ysizes))\n",
    "print('x side: {:.3f} {:.3f}'.format(np.max(xsizes), np.min(xsizes)))\n",
    "print('y side: {:.3f} {:.3f}'.format(np.max(ysizes), np.min(ysizes)))\n",
    "# axs = plt.subplots(1,2,5)\n",
    "#plt.hist(xsizes)\n",
    "plt.hist(ysizes)"
   ]
  },
  {
   "cell_type": "code",
   "execution_count": 6,
   "metadata": {},
   "outputs": [
    {
     "name": "stdout",
     "output_type": "stream",
     "text": [
      "0 processed! \n",
      "100 processed! \n",
      "200 processed! \n",
      "300 processed! \n",
      "400 processed! \n",
      "500 processed! \n"
     ]
    }
   ],
   "source": [
    "''' Prepare crop datset for segmentaiton\n",
    "'''\n",
    "dim = 384; hf = dim // 2\n",
    "h, w = dim // 2, dim // 2\n",
    "crop_dataset = dataset_dir + '/crop'\n",
    "crop_image_dir = crop_dataset + '/images'\n",
    "crop_map_dir =  crop_dataset + '/seg_maps'\n",
    "generate_folder(crop_image_dir)\n",
    "generate_folder(crop_map_dir)\n",
    "for img_index, fn in enumerate(fns):\n",
    "    image_file = image_dir + '/{}'.format(fns[img_index].replace('.txt', '.png'))\n",
    "    map_file = map_dir + '/{}'.format(fns[img_index].replace('.txt', '.tif'))\n",
    "    box_file = box_dir + '/{}'.format(fns[img_index])\n",
    "    image = io.imread(image_file); #print(image.shape, image.max(), image.min())\n",
    "    seg_map = io.imread(map_file); #print(seg_map.shape, seg_map.max(), seg_map.min())    \n",
    "    box_file = box_dir + '/{}'.format(fns[img_index])\n",
    "    boxes = read_boxes(box_file)\n",
    "    shp = image.shape\n",
    "    for j in range(len(boxes)):\n",
    "        tlx, tly = boxes[j][0]\n",
    "        drx, dry = boxes[j][1]\n",
    "        cx, cy = (tlx + drx) // 2, (tly + dry) // 2\n",
    "        ctlx, cdrx, ctly, cdry = cx - hf, cx + hf, cy - hf, cy + hf\n",
    "        if ctlx < 0:\n",
    "            cdrx += 0 - ctlx\n",
    "            ctlx = 0\n",
    "        if ctly < 0:\n",
    "            cdry += 0 - ctly\n",
    "            ctly = 0\n",
    "        if cdrx > shp[0]: \n",
    "            ctlx -= (cdrx - shp[0])\n",
    "            cdrx = shp[0]\n",
    "        if cdry > shp[1]: \n",
    "            ctly -= (cdry - shp[1])\n",
    "            cdry = shp[1]\n",
    "        cp_img = image[ctlx:cdrx, ctly:cdry]\n",
    "        cp_map = seg_map[ctlx:cdrx, ctly:cdry]        \n",
    "        if cp_img.shape == (dim, dim):\n",
    "            io.imsave(crop_image_dir + '/{}_{:02d}.png'.format(fn.replace('.txt',''), j), cp_img)\n",
    "            io.imsave(crop_map_dir + '/{}_{:02d}.tif'.format(fn.replace('.txt',''),j), cp_map)\n",
    "        else:\n",
    "            print('different shape {}x{}'.format(cp_img.shape[0], cp_img.shape[1]))\n",
    "    \n",
    "    if img_index % 100 == 0:\n",
    "        print('{} processed! '.format(img_index))"
   ]
  },
  {
   "cell_type": "code",
   "execution_count": 13,
   "metadata": {},
   "outputs": [
    {
     "name": "stdout",
     "output_type": "stream",
     "text": [
      "504 ['0000.txt', '0001.txt', '0002.txt', '0003.txt', '0004.txt', '0005.txt', '0006.txt', '0007.txt', '0008.txt', '0009.txt']\n",
      "[[598, 207, 761, 370]]\n"
     ]
    }
   ],
   "source": [
    "''' prepare bounding box labels as VOC2012 dataset\n",
    "in the numpy array: the xs, ys correspond to the row and col direction, respectively\n",
    "in the VOC2012 dataset: the xs, ys correspond to the col and row directions, respectively\n",
    "'''\n",
    "def read_boxlines(file_name):\n",
    "    boxes = []\n",
    "    with open(file_name, 'r+') as f:\n",
    "        for line in f.readlines():\n",
    "            splits = line.strip().split(',')\n",
    "            boxes.append([int(splits[1]), int(splits[0]), int(splits[3]), int(splits[2])]) # xmin, ymin, xmax, ymax\n",
    "    return boxes\n",
    "\n",
    "def write_boxes(annot_file_name, img_fn, boxes):\n",
    "    with open(file_name, 'w+') as f:\n",
    "        f.write('<annotation>\\n')\n",
    "        f.write('  <filename>{}<filename>\\n'.format(img_fn))\n",
    "        f.write('  <object><object>'.format())\n",
    "\n",
    "output_dir = dataset_dir + '/voc_annot'\n",
    "box_dir = dataset_dir + '/boxes'\n",
    "image_dir = dataset_dir + '/images'\n",
    "img_fns = natsorted(os.listdir(image_dir))\n",
    "fns = natsorted(os.listdir(box_dir))\n",
    "print(len(fns), fns[:10])\n",
    "# for i, fn in enumerate(fns):\n",
    "fn = fns[0]\n",
    "boxes = read_boxlines(box_dir + '/{}'.format(fn)); print(boxes)"
   ]
  },
  {
   "cell_type": "code",
   "execution_count": null,
   "metadata": {},
   "outputs": [],
   "source": []
  }
 ],
 "metadata": {
  "kernelspec": {
   "display_name": "Python 3",
   "language": "python",
   "name": "python3"
  },
  "language_info": {
   "codemirror_mode": {
    "name": "ipython",
    "version": 3
   },
   "file_extension": ".py",
   "mimetype": "text/x-python",
   "name": "python",
   "nbconvert_exporter": "python",
   "pygments_lexer": "ipython3",
   "version": "3.6.0"
  }
 },
 "nbformat": 4,
 "nbformat_minor": 4
}
